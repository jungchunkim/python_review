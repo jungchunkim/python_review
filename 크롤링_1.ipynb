{
 "cells": [
  {
   "cell_type": "code",
   "execution_count": 1,
   "metadata": {},
   "outputs": [
    {
     "name": "stdout",
     "output_type": "stream",
     "text": [
      " C 드라이브의 볼륨에는 이름이 없습니다.\n",
      " 볼륨 일련 번호: 983E-1F33\n",
      "\n",
      " C:\\Users\\Python\\Desktop\\py\\share\\data 디렉터리\n",
      "\n",
      "2020-02-01  오후 02:09    <DIR>          .\n",
      "2020-02-01  오후 02:09    <DIR>          ..\n",
      "2020-02-01  오후 02:09    <DIR>          .ipynb_checkpoints\n",
      "2018-12-01  오후 09:12             1,135 01. CCTV_in_Seoul.csv\n",
      "2018-12-01  오후 09:12             3,650 01. CCTV_result.csv\n",
      "2018-12-01  오후 09:12            19,968 01. population_in_Seoul.xls\n",
      "2018-12-01  오후 09:12             1,685 02. crime_in_Seoul.csv\n",
      "2018-12-01  오후 09:12             5,563 02. crime_in_Seoul_final.csv\n",
      "2018-12-01  오후 09:12             1,971 02. crime_in_Seoul_include_gu_name.csv\n",
      "2018-12-01  오후 09:12            87,688 02. folium_us-states.json\n",
      "2018-12-01  오후 09:12               367 02. folium_US_Unemployment_Oct2012.csv\n",
      "2018-12-01  오후 09:12             5,680 02. sales-funnel.xlsx\n",
      "2018-12-01  오후 09:12            13,840 02. skorea_municipalities_geo_simple.json\n",
      "2020-02-01  오후 02:09                72 Untitled.ipynb\n",
      "2020-02-01  오후 02:09                72 Untitled1.ipynb\n",
      "              12개 파일             141,691 바이트\n",
      "               3개 디렉터리  179,625,680,896 바이트 남음\n"
     ]
    }
   ],
   "source": [
    "!dir"
   ]
  },
  {
   "cell_type": "code",
   "execution_count": 2,
   "metadata": {},
   "outputs": [
    {
     "name": "stdout",
     "output_type": "stream",
     "text": [
      " C 드라이브의 볼륨에는 이름이 없습니다.\n",
      " 볼륨 일련 번호: 983E-1F33\n",
      "\n",
      " C:\\Users\\Python\\Desktop\\py\\share\\data 디렉터리\n",
      "\n",
      "2020-02-01  오후 02:09    <DIR>          .\n",
      "2020-02-01  오후 02:09    <DIR>          ..\n",
      "2020-02-01  오후 02:09    <DIR>          .ipynb_checkpoints\n",
      "2018-12-01  오후 09:12             1,135 01. CCTV_in_Seoul.csv\n",
      "2018-12-01  오후 09:12             3,650 01. CCTV_result.csv\n",
      "2018-12-01  오후 09:12            19,968 01. population_in_Seoul.xls\n",
      "2018-12-01  오후 09:12             1,685 02. crime_in_Seoul.csv\n",
      "2018-12-01  오후 09:12             5,563 02. crime_in_Seoul_final.csv\n",
      "2018-12-01  오후 09:12             1,971 02. crime_in_Seoul_include_gu_name.csv\n",
      "2018-12-01  오후 09:12               367 02. folium_US_Unemployment_Oct2012.csv\n",
      "2018-12-01  오후 09:12            87,688 02. folium_us-states.json\n",
      "2018-12-01  오후 09:12             5,680 02. sales-funnel.xlsx\n",
      "2018-12-01  오후 09:12            13,840 02. skorea_municipalities_geo_simple.json\n",
      "2020-02-01  오후 02:09                72 Untitled.ipynb\n",
      "2020-02-01  오후 02:09                72 Untitled1.ipynb\n",
      "              12개 파일             141,691 바이트\n",
      "               3개 디렉터리  179,625,680,896 바이트 남음\n"
     ]
    }
   ],
   "source": [
    "%ls"
   ]
  },
  {
   "cell_type": "code",
   "execution_count": 3,
   "metadata": {},
   "outputs": [
    {
     "data": {
      "text/plain": [
       "'C:\\\\Users\\\\Python\\\\Desktop\\\\py\\\\share\\\\data'"
      ]
     },
     "execution_count": 3,
     "metadata": {},
     "output_type": "execute_result"
    }
   ],
   "source": [
    "%pwd"
   ]
  },
  {
   "cell_type": "code",
   "execution_count": 7,
   "metadata": {},
   "outputs": [],
   "source": [
    "import pandas as pd\n",
    "import numpy as np"
   ]
  },
  {
   "cell_type": "code",
   "execution_count": 9,
   "metadata": {},
   "outputs": [
    {
     "data": {
      "text/html": [
       "<div>\n",
       "<style scoped>\n",
       "    .dataframe tbody tr th:only-of-type {\n",
       "        vertical-align: middle;\n",
       "    }\n",
       "\n",
       "    .dataframe tbody tr th {\n",
       "        vertical-align: top;\n",
       "    }\n",
       "\n",
       "    .dataframe thead th {\n",
       "        text-align: right;\n",
       "    }\n",
       "</style>\n",
       "<table border=\"1\" class=\"dataframe\">\n",
       "  <thead>\n",
       "    <tr style=\"text-align: right;\">\n",
       "      <th></th>\n",
       "      <th>관서명</th>\n",
       "      <th>살인 발생</th>\n",
       "      <th>살인 검거</th>\n",
       "      <th>강도 발생</th>\n",
       "      <th>강도 검거</th>\n",
       "      <th>강간 발생</th>\n",
       "      <th>강간 검거</th>\n",
       "      <th>절도 발생</th>\n",
       "      <th>절도 검거</th>\n",
       "      <th>폭력 발생</th>\n",
       "      <th>폭력 검거</th>\n",
       "    </tr>\n",
       "  </thead>\n",
       "  <tbody>\n",
       "    <tr>\n",
       "      <th>0</th>\n",
       "      <td>중부서</td>\n",
       "      <td>2</td>\n",
       "      <td>2</td>\n",
       "      <td>3</td>\n",
       "      <td>2</td>\n",
       "      <td>105</td>\n",
       "      <td>65</td>\n",
       "      <td>1,395</td>\n",
       "      <td>477</td>\n",
       "      <td>1,355</td>\n",
       "      <td>1,170</td>\n",
       "    </tr>\n",
       "    <tr>\n",
       "      <th>1</th>\n",
       "      <td>종로서</td>\n",
       "      <td>3</td>\n",
       "      <td>3</td>\n",
       "      <td>6</td>\n",
       "      <td>5</td>\n",
       "      <td>115</td>\n",
       "      <td>98</td>\n",
       "      <td>1,070</td>\n",
       "      <td>413</td>\n",
       "      <td>1,278</td>\n",
       "      <td>1,070</td>\n",
       "    </tr>\n",
       "    <tr>\n",
       "      <th>2</th>\n",
       "      <td>남대문서</td>\n",
       "      <td>1</td>\n",
       "      <td>0</td>\n",
       "      <td>6</td>\n",
       "      <td>4</td>\n",
       "      <td>65</td>\n",
       "      <td>46</td>\n",
       "      <td>1,153</td>\n",
       "      <td>382</td>\n",
       "      <td>869</td>\n",
       "      <td>794</td>\n",
       "    </tr>\n",
       "    <tr>\n",
       "      <th>3</th>\n",
       "      <td>서대문서</td>\n",
       "      <td>2</td>\n",
       "      <td>2</td>\n",
       "      <td>5</td>\n",
       "      <td>4</td>\n",
       "      <td>154</td>\n",
       "      <td>124</td>\n",
       "      <td>1,812</td>\n",
       "      <td>738</td>\n",
       "      <td>2,056</td>\n",
       "      <td>1,711</td>\n",
       "    </tr>\n",
       "    <tr>\n",
       "      <th>4</th>\n",
       "      <td>혜화서</td>\n",
       "      <td>3</td>\n",
       "      <td>2</td>\n",
       "      <td>5</td>\n",
       "      <td>4</td>\n",
       "      <td>96</td>\n",
       "      <td>63</td>\n",
       "      <td>1,114</td>\n",
       "      <td>424</td>\n",
       "      <td>1,015</td>\n",
       "      <td>861</td>\n",
       "    </tr>\n",
       "  </tbody>\n",
       "</table>\n",
       "</div>"
      ],
      "text/plain": [
       "    관서명  살인 발생  살인 검거  강도 발생  강도 검거  강간 발생  강간 검거  절도 발생 절도 검거  폭력 발생  폭력 검거\n",
       "0   중부서      2      2      3      2    105     65  1,395   477  1,355  1,170\n",
       "1   종로서      3      3      6      5    115     98  1,070   413  1,278  1,070\n",
       "2  남대문서      1      0      6      4     65     46  1,153   382    869    794\n",
       "3  서대문서      2      2      5      4    154    124  1,812   738  2,056  1,711\n",
       "4   혜화서      3      2      5      4     96     63  1,114   424  1,015    861"
      ]
     },
     "execution_count": 9,
     "metadata": {},
     "output_type": "execute_result"
    }
   ],
   "source": [
    "crime_anal_police = pd.read_csv('02. crime_in_Seoul.csv', \n",
    "                               thousands='.', encoding='euc-kr')\n",
    "\n",
    "# 만약, 인코딩 오류가 발생할 경우 euc-kr을 utf-8로 수정한다.\n",
    "#head() 함수는 괄호안에 인수를 생략할 경우 기본값으로 처음부터 5줄만 출력해준다.\n",
    "\n",
    "crime_anal_police.head()"
   ]
  },
  {
   "cell_type": "code",
   "execution_count": 10,
   "metadata": {},
   "outputs": [
    {
     "name": "stdout",
     "output_type": "stream",
     "text": [
      "Collecting googlemaps\n",
      "  Downloading https://files.pythonhosted.org/packages/f9/57/b9564e735e4f4ef454504090ef95f5cc7bfd7d91d726119b3e9bb1b1f44f/googlemaps-4.1.0-py3-none-any.whl\n",
      "Requirement already satisfied: requests<3.0,>=2.20.0 in c:\\users\\python\\appdata\\local\\programs\\python\\python37\\lib\\site-packages (from googlemaps) (2.22.0)\n",
      "Requirement already satisfied: urllib3!=1.25.0,!=1.25.1,<1.26,>=1.21.1 in c:\\users\\python\\appdata\\local\\programs\\python\\python37\\lib\\site-packages (from requests<3.0,>=2.20.0->googlemaps) (1.25.7)\n",
      "Requirement already satisfied: chardet<3.1.0,>=3.0.2 in c:\\users\\python\\appdata\\local\\programs\\python\\python37\\lib\\site-packages (from requests<3.0,>=2.20.0->googlemaps) (3.0.4)\n",
      "Requirement already satisfied: certifi>=2017.4.17 in c:\\users\\python\\appdata\\local\\programs\\python\\python37\\lib\\site-packages (from requests<3.0,>=2.20.0->googlemaps) (2019.11.28)\n",
      "Requirement already satisfied: idna<2.9,>=2.5 in c:\\users\\python\\appdata\\local\\programs\\python\\python37\\lib\\site-packages (from requests<3.0,>=2.20.0->googlemaps) (2.8)\n",
      "Installing collected packages: googlemaps\n",
      "Successfully installed googlemaps-4.1.0\n"
     ]
    },
    {
     "name": "stderr",
     "output_type": "stream",
     "text": [
      "WARNING: You are using pip version 19.3.1; however, version 20.0.2 is available.\n",
      "You should consider upgrading via the 'python -m pip install --upgrade pip' command.\n"
     ]
    }
   ],
   "source": [
    "!pip install googlemaps"
   ]
  },
  {
   "cell_type": "code",
   "execution_count": 11,
   "metadata": {},
   "outputs": [
    {
     "name": "stdout",
     "output_type": "stream",
     "text": [
      "Collecting pip\n",
      "  Downloading https://files.pythonhosted.org/packages/54/0c/d01aa759fdc501a58f431eb594a17495f15b88da142ce14b5845662c13f3/pip-20.0.2-py2.py3-none-any.whl (1.4MB)\n",
      "Installing collected packages: pip\n",
      "  Found existing installation: pip 19.3.1\n",
      "    Uninstalling pip-19.3.1:\n",
      "      Successfully uninstalled pip-19.3.1\n",
      "Successfully installed pip-20.0.2\n"
     ]
    }
   ],
   "source": [
    "!python -m pip install --upgrade pip"
   ]
  },
  {
   "cell_type": "code",
   "execution_count": 12,
   "metadata": {},
   "outputs": [],
   "source": [
    "import googlemaps\n",
    "\n",
    "gmaps_key = \"여기에 구글 API 키를 넣어주세요\"\n",
    "gmaps = googlemaps.Client(key=gmaps_key)"
   ]
  },
  {
   "cell_type": "code",
   "execution_count": 15,
   "metadata": {},
   "outputs": [
    {
     "data": {
      "text/plain": [
       "[{'address_components': [{'long_name': '９４',\n",
       "    'short_name': '９４',\n",
       "    'types': ['premise']},\n",
       "   {'long_name': '와우산로',\n",
       "    'short_name': '와우산로',\n",
       "    'types': ['political', 'sublocality', 'sublocality_level_4']},\n",
       "   {'long_name': '상수동',\n",
       "    'short_name': '상수동',\n",
       "    'types': ['political', 'sublocality', 'sublocality_level_2']},\n",
       "   {'long_name': '마포구',\n",
       "    'short_name': '마포구',\n",
       "    'types': ['political', 'sublocality', 'sublocality_level_1']},\n",
       "   {'long_name': '서울특별시',\n",
       "    'short_name': '서울특별시',\n",
       "    'types': ['administrative_area_level_1', 'political']},\n",
       "   {'long_name': '대한민국',\n",
       "    'short_name': 'KR',\n",
       "    'types': ['country', 'political']},\n",
       "   {'long_name': '121-160',\n",
       "    'short_name': '121-160',\n",
       "    'types': ['postal_code']}],\n",
       "  'formatted_address': '대한민국 서울특별시 마포구 상수동 와우산로 94',\n",
       "  'geometry': {'location': {'lat': 37.5515814, 'lng': 126.9249751},\n",
       "   'location_type': 'ROOFTOP',\n",
       "   'viewport': {'northeast': {'lat': 37.55293038029149,\n",
       "     'lng': 126.9263240802915},\n",
       "    'southwest': {'lat': 37.55023241970849, 'lng': 126.9236261197085}}},\n",
       "  'place_id': 'ChIJtaJbPsSYfDUROlIoUR9wvXU',\n",
       "  'plus_code': {'compound_code': 'HW2F+JX 대한민국 서울특별시',\n",
       "   'global_code': '8Q98HW2F+JX'},\n",
       "  'types': ['establishment', 'point_of_interest', 'school', 'university']}]"
      ]
     },
     "execution_count": 15,
     "metadata": {},
     "output_type": "execute_result"
    }
   ],
   "source": [
    "gmaps.geocode('홍익대학교', language='ko')"
   ]
  },
  {
   "cell_type": "code",
   "execution_count": 17,
   "metadata": {},
   "outputs": [
    {
     "data": {
      "text/plain": [
       "['서울중부경찰서',\n",
       " '서울종로경찰서',\n",
       " '서울남대문경찰서',\n",
       " '서울서대문경찰서',\n",
       " '서울혜화경찰서',\n",
       " '서울용산경찰서',\n",
       " '서울성북경찰서',\n",
       " '서울동대문경찰서',\n",
       " '서울마포경찰서',\n",
       " '서울영등포경찰서',\n",
       " '서울성동경찰서',\n",
       " '서울동작경찰서',\n",
       " '서울광진경찰서',\n",
       " '서울서부경찰서',\n",
       " '서울강북경찰서',\n",
       " '서울금천경찰서',\n",
       " '서울중랑경찰서',\n",
       " '서울강남경찰서',\n",
       " '서울관악경찰서',\n",
       " '서울강서경찰서',\n",
       " '서울강동경찰서',\n",
       " '서울종암경찰서',\n",
       " '서울구로경찰서',\n",
       " '서울서초경찰서',\n",
       " '서울양천경찰서',\n",
       " '서울송파경찰서',\n",
       " '서울노원경찰서',\n",
       " '서울방배경찰서',\n",
       " '서울은평경찰서',\n",
       " '서울도봉경찰서',\n",
       " '서울수서경찰서']"
      ]
     },
     "execution_count": 17,
     "metadata": {},
     "output_type": "execute_result"
    }
   ],
   "source": [
    "station_name = []\n",
    "\n",
    "for name in crime_anal_police['관서명']:   # 중부서,  마포서  -> 서울중부경찰서\n",
    "    station_name.append('서울' + str(name[:-1]) + '경찰서')\n",
    "\n",
    "station_name\n",
    "    "
   ]
  },
  {
   "cell_type": "code",
   "execution_count": 18,
   "metadata": {},
   "outputs": [
    {
     "name": "stdout",
     "output_type": "stream",
     "text": [
      "서울중부경찰서-->대한민국 서울특별시 중구 을지로동 수표로 27\n",
      "서울종로경찰서-->대한민국 서울특별시 종로구 종로1.2.3.4가동 율곡로 46\n",
      "서울남대문경찰서-->대한민국 서울특별시 중구 회현동 한강대로 410\n",
      "서울서대문경찰서-->대한민국 서울특별시 서대문구 충현동 통일로 113\n",
      "서울혜화경찰서-->대한민국 서울특별시 종로구 인의동 창경궁로 112-16\n",
      "서울용산경찰서-->대한민국 서울특별시 용산구 원효로1가 백범로 329\n",
      "서울성북경찰서-->대한민국 서울특별시 성북구 삼선동5가 301\n",
      "서울동대문경찰서-->대한민국 서울특별시 동대문구 청량리동 약령시로21길 29\n",
      "서울마포경찰서-->대한민국 서울특별시 마포구 아현동 마포대로 183\n",
      "서울영등포경찰서-->대한민국 서울특별시 영등포구 영등포동1가 618-7\n",
      "서울성동경찰서-->대한민국 서울특별시 성동구 행당동 왕십리광장로 9\n",
      "서울동작경찰서-->대한민국 서울특별시 동작구 노량진1동 노량진로 148\n",
      "서울광진경찰서-->대한민국 서울특별시 광진구 구의동 자양로 167\n",
      "서울서부경찰서-->대한민국 서울특별시 은평구 대조동 통일로 757\n",
      "서울강북경찰서-->대한민국 서울특별시 강북구 번1동 오패산로 406\n",
      "서울금천경찰서-->대한민국 서울특별시 금천구 시흥동 190\n",
      "서울중랑경찰서-->대한민국 서울특별시 중랑구 신내1동 신내역로3길 40-10\n",
      "서울강남경찰서-->대한민국 서울특별시 강남구 대치동 998\n",
      "서울관악경찰서-->대한민국 서울특별시 관악구 봉천동\n",
      "서울강서경찰서-->대한민국 서울특별시 양천구 신월동 화곡로 73\n",
      "서울강동경찰서-->대한민국 서울특별시 강동구 성내1동 성내로 57\n",
      "서울종암경찰서-->대한민국 서울특별시 성북구 종암동 종암로 135\n",
      "서울구로경찰서-->대한민국 서울특별시 구로구 구로동 가마산로 235\n",
      "서울서초경찰서-->대한민국 서울특별시 서초구 서초3동 반포대로 179\n",
      "서울양천경찰서-->대한민국 서울특별시 양천구 신정6동 목동동로 99\n",
      "서울송파경찰서-->대한민국 서울특별시 송파구 가락본동 9\n",
      "서울노원경찰서-->대한민국 서울특별시 노원구 하계동 노원로 283\n",
      "서울방배경찰서-->대한민국 서울특별시 서초구 방배본동 동작대로 204\n",
      "서울은평경찰서-->대한민국 서울특별시 은평구 불광동 연서로 365\n",
      "서울도봉경찰서-->대한민국 서울특별시 도봉구 창4동 노해로 403\n",
      "서울수서경찰서-->대한민국 서울특별시 강남구 개포동 개포로 617\n"
     ]
    }
   ],
   "source": [
    "station_address = []  # 실제 주소\n",
    "station_lat = []  #위도\n",
    "station_lng = []  #경도\n",
    "\n",
    "for name in station_name:\n",
    "    tmp = gmaps.geocode(name, language='ko')\n",
    "    station_address.append(tmp[0].get(\"formatted_address\"))\n",
    "    \n",
    "    tmp_loc = tmp[0].get(\"geometry\")\n",
    "    \n",
    "    station_lat.append(tmp_loc['location']['lat'])\n",
    "    station_lng.append(tmp_loc['location']['lng'])\n",
    "    \n",
    "    print(name + '-->' + tmp[0].get(\"formatted_address\"))"
   ]
  }
 ],
 "metadata": {
  "kernelspec": {
   "display_name": "Python 3",
   "language": "python",
   "name": "python3"
  },
  "language_info": {
   "codemirror_mode": {
    "name": "ipython",
    "version": 3
   },
   "file_extension": ".py",
   "mimetype": "text/x-python",
   "name": "python",
   "nbconvert_exporter": "python",
   "pygments_lexer": "ipython3",
   "version": "3.7.5"
  }
 },
 "nbformat": 4,
 "nbformat_minor": 2
}
